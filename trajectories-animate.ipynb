{
 "metadata": {
  "name": ""
 },
 "nbformat": 3,
 "nbformat_minor": 0,
 "worksheets": [
  {
   "cells": [
    {
     "cell_type": "code",
     "collapsed": false,
     "input": [
      "%pylab inline\n",
      "%load_ext rmagic"
     ],
     "language": "python",
     "metadata": {},
     "outputs": [
      {
       "output_type": "stream",
       "stream": "stdout",
       "text": [
        "Populating the interactive namespace from numpy and matplotlib\n"
       ]
      }
     ],
     "prompt_number": 2
    },
    {
     "cell_type": "code",
     "collapsed": false,
     "input": [
      "subcols = ['b','g','orange','teal','gray','r','purple']"
     ],
     "language": "python",
     "metadata": {},
     "outputs": [],
     "prompt_number": 3
    },
    {
     "cell_type": "code",
     "collapsed": false,
     "input": [
      "for order in range(1,20):\n",
      "    plt.figure( figsize=(12,10) )\n",
      "    for sub in np.arange(7):\n",
      "        subn=\"S%d\"%(sub+1)\n",
      "        %R -i subn,order -o slopes,intercepts source(\"orthol.r\")\n",
      "        plot( 10**(-intercepts/slopes), slopes, '-', label=subn, color=subcols[sub], lw=3)\n",
      "    plt.legend()\n",
      "    plt.grid()\n",
      "    plt.semilogx()\n",
      "    plt.xlim(60,300)\n",
      "    plt.ylim(2,5.5)\n",
      "    plt.savefig('fig/%03d.png'%order)\n",
      "    plt.close()"
     ],
     "language": "python",
     "metadata": {},
     "outputs": [],
     "prompt_number": 32
    }
   ],
   "metadata": {}
  }
 ]
}